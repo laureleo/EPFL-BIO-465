{
 "cells": [
  {
   "cell_type": "markdown",
   "metadata": {},
   "source": [
    "# Hopfield Network model of associative memory"
   ]
  },
  {
   "cell_type": "markdown",
   "metadata": {},
   "source": [
    "first name: Kaleem\n",
    "\n",
    "last name: Corbin\n",
    "\n",
    "sciper: 295433\n",
    "\n",
    "date: 29.04.2019\n",
    "\n",
    "*Your teammate*\n",
    "\n",
    "first name of your teammate: Victor\n",
    "\n",
    "last name of your teammate: Wiklund\n",
    "\n",
    "sciper of your teammate: \n",
    "\n",
    "\n",
    "** Remember **\n",
    "\n",
    "If you are asked for plots: The appearance of the plots (labelled axes, ** useful scaling **, etc.) is important!\n",
    "\n",
    "If you are asked for discussions: Answer in a precise way and try to be concise. \n",
    "\n",
    "\n",
    "** Submission **\n",
    "\n",
    "Rename this notebook to Ex2_FirstName_LastName_Sciper.ipynb and upload that single file on moodle before the deadline.\n",
    "\n",
    "Exercise instructions are given in this notebook file.\n",
    "\n",
    "** Rules: **\n",
    "\n",
    "1) You are strongly encouraged to work in groups of 2. You are allowed to work alone. Groups of 3 or more are NOT allowed\n",
    "\n",
    "2) If you work in a group of 2, BOTH people should upload the same notebook file  \n",
    "\n",
    "3) If you work alone, you can't share your notebook file with anyone else\n",
    "\n",
    "4) Discussion between groups is encouraged, but you can't share your code or text\n",
    "\n",
    "5) The points assigned to each exercise are indicated in the notebook file\n",
    "\n",
    "6) You should upload a jupyter notebook file with all code run and picture visible. We are not going to run your notebook.\n",
    "\n",
    "7) Read carefully the instructions at the beginning of the notebook file, answer in a clear and concise way to open questions\n",
    "\n",
    "8) You have to understand every line of code you write in this notebook. We will ask you questions about your submission during a fraud detection session during the last week of the semester\n",
    "\n",
    "## \\* \\* \\* \\* Programming Notes : Copying and slicing lists and numpy arrays \\* \\* \\* \\*\n",
    "We would like to take the opportunity to bring to your attention certain features of Python, that might lead to unwanted behaviour and serious mistakes, if one is not aware of them. \n",
    "Please check the Python Cheat Sheet file on the moodle (https://moodle.epfl.ch/mod/page/view.php?id=981134 Part 4 of the ipynb file) for some examples of the following notes:\n",
    "\n",
    "* Assigning a list to a new variable does not create a copy of the list, but creates a variable that points to the list. This means that modifying the second variable, also modifies the original list.\n",
    "* Assigning a slice of a list to a new variable, creates a copy of the list. Any modification to the sliced list does not modify the original.\n",
    "\n",
    "Now when it comes to numpy arrays:\n",
    "* Assigning a numpy array to a new variable does not create a copy of the array, but creates a variable that points to the array. This means that modifying the second variable, also modifies the original array. (same as above)\n",
    "* Assigning a slice of a numpy array to a new variable creates a variable that points to the corresponding elements of the original array as well! (contrary to what we saw above!) This means that modifying the second variable, also modifies the original array!\n",
    "* To copy the original array and ensure that it is not modified by any modification of its copied version, the method copy() should be used."
   ]
  },
  {
   "cell_type": "markdown",
   "metadata": {},
   "source": [
    "## 8.1. Getting started:\n",
    "\n",
    "See [Chapter 17](https://neuronaldynamics-exercises.readthedocs.io/en/latest/exercises/hopfield-network.html) Section 2 for an introduction to Hopfield networks.\n",
    "\n",
    "We provide a couple of functions to easily create patterns, store them in the network and visualize the network dynamics. Check the modules [`hopfield_network.network`](https://neuronaldynamics-exercises.readthedocs.io/en/latest/modules/neurodynex.hopfield_network.html#module-neurodynex.hopfield_network.network), [`hopfield_network.pattern_tools`](https://neuronaldynamics-exercises.readthedocs.io/en/latest/modules/neurodynex.hopfield_network.html#module-neurodynex.hopfield_network.pattern_tools) and [`hopfield_network.plot_tools`](https://neuronaldynamics-exercises.readthedocs.io/en/latest/modules/neurodynex.hopfield_network.html#module-neurodynex.hopfield_network.plot_tools) to learn the building blocks we provide.\n",
    "\n",
    "***Note:*** If you instantiate a new object of class `network.HopfieldNetwork` it’s default dynamics are deterministic and synchronous. That is, all states are updated at the same time using the sign function. We use this dynamics in all exercises described below.\n",
    "\n",
    "Run the following code. Read the inline comments and check the documentation. The patterns and the flipped pixels are randomly chosen. Therefore the result changes every time you execute this code. Run it several times and change some parameters like nr_patterns and nr_of_flips."
   ]
  },
  {
   "cell_type": "code",
   "execution_count": 752,
   "metadata": {},
   "outputs": [
    {
     "data": {
      "image/png": "[encoded data removed]",
      "text/plain": [
       "<Figure size 432x288 with 4 Axes>"
      ]
     },
     "metadata": {
      "needs_background": "light"
     },
     "output_type": "display_data"
    },
    {
     "data": {
      "image/png": "[encoded data removed]",
      "text/plain": [
       "<Figure size 432x288 with 2 Axes>"
      ]
     },
     "metadata": {
      "needs_background": "light"
     },
     "output_type": "display_data"
    },
    {
     "data": {
      "image/png": "[encoded data removed]",
      "text/plain": [
       "<Figure size 432x288 with 12 Axes>"
      ]
     },
     "metadata": {
      "needs_background": "light"
     },
     "output_type": "display_data"
    }
   ],
   "source": [
    "%matplotlib inline\n",
    "from neurodynex.hopfield_network import network, pattern_tools, plot_tools\n",
    "\n",
    "pattern_size = 6\n",
    "\n",
    "# create an instance of the class HopfieldNetwork\n",
    "hopfield_net = network.HopfieldNetwork(nr_neurons= pattern_size**2)\n",
    "# instantiate a pattern factory\n",
    "factory = pattern_tools.PatternFactory(pattern_size, pattern_size)\n",
    "# create a checkerboard pattern and add it to the pattern list\n",
    "checkerboard = factory.create_checkerboard()\n",
    "pattern_list = [checkerboard]\n",
    "\n",
    "# add random patterns to the list\n",
    "pattern_list.extend(factory.create_random_pattern_list(nr_patterns=3, on_probability=0.5))\n",
    "plot_tools.plot_pattern_list(pattern_list)\n",
    "# how similar are the random patterns and the checkerboard? Check the overlaps\n",
    "overlap_matrix = pattern_tools.compute_overlap_matrix(pattern_list)\n",
    "plot_tools.plot_overlap_matrix(overlap_matrix)\n",
    "\n",
    "# let the hopfield network \"learn\" the patterns. Note: they are not stored\n",
    "# explicitly but only network weights are updated !\n",
    "hopfield_net.store_patterns(pattern_list)\n",
    "\n",
    "# create a noisy version of a pattern and use that to initialize the network\n",
    "noisy_init_state = pattern_tools.flip_n(checkerboard, nr_of_flips=5)\n",
    "hopfield_net.set_state_from_pattern(noisy_init_state)\n",
    "\n",
    "# from this initial state, let the network dynamics evolve.\n",
    "states = hopfield_net.run_with_monitoring(nr_steps=5)\n",
    "\n",
    "# each network state is a vector. reshape it to the same shape used to create the patterns.\n",
    "states_as_patterns = factory.reshape_patterns(states)\n",
    "# plot the states of the network\n",
    "plot_tools.plot_state_sequence_and_overlap(states_as_patterns, pattern_list, reference_idx=0, suptitle=\"Network dynamics\")"
   ]
  },
  {
   "cell_type": "markdown",
   "metadata": {},
   "source": [
    "***Note:*** The network state is a vector of N neurons. For visualization we use 2d patterns which are two dimensional numpy.ndarrays of size = (length, width). To store such patterns, initialize the network with N = length x width neurons."
   ]
  },
  {
   "cell_type": "markdown",
   "metadata": {},
   "source": [
    "## 8.2. Introduction: Hopfield-networks\n",
    "\n",
    "This exercise uses a model in which neurons are pixels and take the values of -1 (off) or +1 (on). The network can store a certain number of pixel patterns, which is to be investigated in this exercise. During a retrieval phase, the network is started with some initial configuration and the network dynamics evolves towards the stored pattern (attractor) which is closest to the initial configuration.\n",
    "\n",
    "The dynamics is that of equation:\n",
    "\\begin{equation}\n",
    "    S_i(t+1) = sgn\\left(\\sum_j w_{ij} S_j(t)\\right)\n",
    "\\end{equation}\n",
    "In the Hopfield model each neuron is connected to every other neuron (full connectivity). The connection matrix is\n",
    "\\begin{equation}\n",
    "    w_{ij} = \\frac{1}{N}\\sum_{\\mu} p_i^\\mu p_j^\\mu\n",
    "\\end{equation}\n",
    "where N is the number of neurons, $p^{\\mu}_i$\n",
    " is the value of neuron $i$\n",
    " in pattern number $\\mu$\n",
    " and the sum runs over all patterns from $\\mu=1$\n",
    " to $\\mu=P$. This is a simple correlation based learning rule (Hebbian learning). Since it is not a iterative rule it is sometimes called one-shot learning. The learning rule works best if the patterns that are to be stored are random patterns with equal probability for on (+1) and off (-1). In a large networks (N to infinity) the number of random patterns that can be stored is approximately 0.14 times N.\n",
    "\n"
   ]
  },
  {
   "cell_type": "markdown",
   "metadata": {},
   "source": [
    "## 8.3. Exercise: N=6x6 Hopfield-network\n",
    "\n",
    "We study how a network stores and retrieve patterns. Using a small network of only 36 neurons allows us to have a close look at the network weights and dynamics."
   ]
  },
  {
   "cell_type": "markdown",
   "metadata": {},
   "source": [
    "### 8.3.1. Question: Storing a single pattern\n",
    "#### [2 + 2 + 3 points]\n",
    "\n",
    "Modify the Python code given above to implement this exercise:\n",
    "\n",
    "Create a network with N=36 neurons.\n",
    "Create a single 6 by 6 checkerboard pattern.\n",
    "Store the checkerboard in the network.\n",
    "Set the initial state of the network to a noisy version of the checkerboard (nr_flipped_pixels = 5).\n",
    "Let the network dynamics evolve for 5 iterations.\n",
    "Plot the sequence of network states along with the overlap of network state with the checkerboard.\n",
    "Now test whether the network can still retrieve the pattern if we increase the number of flipped pixels. "
   ]
  },
  {
   "cell_type": "code",
   "execution_count": 753,
   "metadata": {},
   "outputs": [],
   "source": [
    "# write your code here\n",
    "%matplotlib inline\n",
    "from neurodynex.hopfield_network import network, pattern_tools, plot_tools\n",
    "\n",
    "pattern_size = 6\n",
    "\n",
    "# create an instance of the class HopfieldNetwork\n",
    "hopfield_net = network.HopfieldNetwork(nr_neurons= pattern_size**2)\n",
    "# instantiate a pattern factory\n",
    "factory = pattern_tools.PatternFactory(pattern_size, pattern_size)\n",
    "# create a checkerboard pattern and add it to the pattern list\n",
    "checkerboard = factory.create_checkerboard()\n",
    "pattern_list = [checkerboard]\n",
    "\n",
    "# let the hopfield network \"learn\" the patterns. Note: they are not stored\n",
    "# explicitly but only network weights are updated !\n",
    "hopfield_net.store_patterns(pattern_list)\n",
    "\n",
    "# create a noisy version of a pattern and use that to initialize the network\n",
    "noisy_init_state = pattern_tools.flip_n(checkerboard, nr_of_flips=5)\n",
    "hopfield_net.set_state_from_pattern(noisy_init_state)\n",
    "\n",
    "# from this initial state, let the network dynamics evolve.\n",
    "states = hopfield_net.run_with_monitoring(nr_steps=5)\n",
    "\n",
    "# each network state is a vector. reshape it to the same shape used to create the patterns.\n",
    "states_as_patterns = factory.reshape_patterns(states)"
   ]
  },
  {
   "cell_type": "code",
   "execution_count": 754,
   "metadata": {},
   "outputs": [
    {
     "data": {
      "image/png": "[encoded data removed]",
      "text/plain": [
       "<Figure size 432x288 with 12 Axes>"
      ]
     },
     "metadata": {
      "needs_background": "light"
     },
     "output_type": "display_data"
    }
   ],
   "source": [
    "# Plot the sequence of network states along with the overlap of network state with the checkerboard\n",
    "# plot the states of the network\n",
    "plot_tools.plot_state_sequence_and_overlap(states_as_patterns, pattern_list, reference_idx=0, suptitle=\"Network dynamics\")"
   ]
  },
  {
   "cell_type": "code",
   "execution_count": 755,
   "metadata": {},
   "outputs": [
    {
     "data": {
      "text/plain": [
       "Text(0,0.5,'Overlap')"
      ]
     },
     "execution_count": 755,
     "metadata": {},
     "output_type": "execute_result"
    },
    {
     "data": {
      "image/png": "[encoded data removed]",
      "text/plain": [
       "<Figure size 864x288 with 1 Axes>"
      ]
     },
     "metadata": {
      "needs_background": "light"
     },
     "output_type": "display_data"
    }
   ],
   "source": [
    "import matplotlib.pyplot as plt\n",
    "overlap_flipped = []\n",
    "for i in range(pattern_size**2):\n",
    "    #Create checkerboard\n",
    "    checkerboard = factory.create_checkerboard()\n",
    "    pattern_list = [checkerboard]\n",
    "    hopfield_net.store_patterns(pattern_list)\n",
    "\n",
    "    # create a noisy version of a pattern and use that to initialize the network\n",
    "    noisy_init_state = pattern_tools.flip_n(checkerboard, nr_of_flips=i)\n",
    "    hopfield_net.set_state_from_pattern(noisy_init_state)\n",
    "    states = hopfield_net.run_with_monitoring(nr_steps=5)\n",
    "\n",
    "    # each network state is a vector. reshape it to the same shape used to create the patterns.\n",
    "    states_as_patterns = factory.reshape_patterns(states)\n",
    "    #Detect overlap between checkerboard and final sequence (retrieve the last sequence (last index)\n",
    "    overlap_flipped.append(pattern_tools.compute_overlap_list(checkerboard, states_as_patterns)[-1])\n",
    "    #print('number of flips: {}, overlap with final sequence: {}'.format(i,overlap_p))\n",
    "    \n",
    "plt.figure( figsize = [12, 4] ) \n",
    "plt.plot(overlap_flipped, marker='o')\n",
    "plt.xticks(np.arange(pattern_size**2))\n",
    "plt.yticks([-1,0,1])\n",
    "plt.xlabel(\"Number of flips\")\n",
    "plt.ylabel(\"Overlap\")\n"
   ]
  },
  {
   "cell_type": "markdown",
   "metadata": {},
   "source": [
    "What happens at nr_flipped_pixels = 18, what if nr_flipped_pixels > 18 ?"
   ]
  },
  {
   "cell_type": "markdown",
   "metadata": {},
   "source": [
    "your answer\n",
    "\n",
    "When the number of flipped pixels is equal to 18, the pattern is no longer able to be retrieved. This is illustrated by the overlap between the checkerboard and the final sequence being equal to 0. When the number of flipped pixels exceeds 18, the overlap between the pattern and the final state is equal to -1, which indicates that all the pixels in the final state have the opposite from the value in the initial checkerboard pattern."
   ]
  },
  {
   "cell_type": "markdown",
   "metadata": {},
   "source": [
    "### 8.3.2. Question: the weights matrix\n",
    "#### [1 + 3 + 2 points]\n",
    "\n",
    "The patterns a Hopfield network learns are not stored explicitly. Instead, the network learns by adjusting the weights to the pattern set it is presented during learning. Let’s visualize this.\n",
    "\n",
    "1. Create a new 6x6 network. Do not yet store any pattern.\n",
    "2. What is the size of the network matrix?\n",
    "3. Visualize the weight matrix using the function [`plot_tools.plot_nework_weights()`](https://neuronaldynamics-exercises.readthedocs.io/en/latest/modules/neurodynex.hopfield_network.html#neurodynex.hopfield_network.plot_tools.plot_nework_weights). It takes the network as a parameter.\n",
    "4. Create a checkerboard, store it in the network.\n",
    "5. Plot the weights matrix. What weight values do occur?\n",
    "6. Create a new 6x6 network\n",
    "7. Create an L-shaped pattern (look at the pattern factory doc), store it in the network\n",
    "8. Plot the weights matrix. What weight values do occur?\n",
    "9. Create a new 6x6 network\n",
    "10. Create a checkerboard and an L-shaped pattern. Store both patterns in the network\n",
    "11. Plot the weights matrix. What weight values do occur? How does this matrix compare to the two previous matrices?\n",
    "\n",
    "***Note:*** The mapping of the 2 dimensional patterns onto the one dimensional list of network neurons is internal to the implementation of the network. You cannot know which pixel (x,y) in the pattern corresponds to which network neuron i."
   ]
  },
  {
   "cell_type": "code",
   "execution_count": 756,
   "metadata": {},
   "outputs": [
    {
     "data": {
      "image/png": "[encoded data removed]",
      "text/plain": [
       "<Figure size 432x288 with 2 Axes>"
      ]
     },
     "metadata": {
      "needs_background": "light"
     },
     "output_type": "display_data"
    },
    {
     "data": {
      "image/png": "[encoded data removed]",
      "text/plain": [
       "<Figure size 432x288 with 2 Axes>"
      ]
     },
     "metadata": {
      "needs_background": "light"
     },
     "output_type": "display_data"
    }
   ],
   "source": [
    "import matplotlib.pyplot as plt\n",
    "# write your code here: Bullet points 1-5 \n",
    "pattern_size = 6\n",
    "\n",
    "# 1. Creating an instance of the class HopfieldNetwork, Network size is equal to 36 (6^2)\n",
    "hopfield_net_1 = network.HopfieldNetwork(nr_neurons= pattern_size**2)\n",
    "\n",
    "# 3. Visualizing the weight matrix before storing the checkerboard\n",
    "plot_tools.plot_nework_weights(hopfield_net_1, color_map='jet')\n",
    "\n",
    "# 4. Creating a checkerboard pattern and store it to the network\n",
    "factory = pattern_tools.PatternFactory(pattern_size, pattern_size)\n",
    "checkerboard = factory.create_checkerboard()\n",
    "pattern_list = [checkerboard]\n",
    "hopfield_net_1.store_patterns(pattern_list)\n",
    "\n",
    "\n",
    "# 5. Plotting the weight matrix after storing the checkerboard\n",
    "plot_tools.plot_nework_weights(hopfield_net_1, color_map='jet')\n"
   ]
  },
  {
   "cell_type": "code",
   "execution_count": 757,
   "metadata": {},
   "outputs": [
    {
     "data": {
      "image/png": "[encoded data removed]",
      "text/plain": [
       "<Figure size 432x288 with 1 Axes>"
      ]
     },
     "metadata": {
      "needs_background": "light"
     },
     "output_type": "display_data"
    },
    {
     "data": {
      "image/png": "[encoded data removed]",
      "text/plain": [
       "<Figure size 432x288 with 2 Axes>"
      ]
     },
     "metadata": {
      "needs_background": "light"
     },
     "output_type": "display_data"
    },
    {
     "data": {
      "image/png": "[encoded data removed]",
      "text/plain": [
       "<Figure size 432x288 with 2 Axes>"
      ]
     },
     "metadata": {
      "needs_background": "light"
     },
     "output_type": "display_data"
    },
    {
     "data": {
      "image/png": "[encoded data removed]",
      "text/plain": [
       "<Figure size 432x288 with 2 Axes>"
      ]
     },
     "metadata": {
      "needs_background": "light"
     },
     "output_type": "display_data"
    }
   ],
   "source": [
    "# write your code here: Bullet points 6-11\n",
    "pattern_size = 6\n",
    "\n",
    "# 6. Creating a new instance of the class HopfieldNetwork, Network size is equal to 36 (6^2)\n",
    "hopfield_net_2 = network.HopfieldNetwork(nr_neurons= pattern_size**2)\n",
    "# 7. Creating an L-shaped pattern and store it to the network\n",
    "factory = pattern_tools.PatternFactory(pattern_size, pattern_size)\n",
    "L_pattern = factory.create_L_pattern()\n",
    "pattern_list = [L_pattern]\n",
    "hopfield_net_2.store_patterns(pattern_list)\n",
    "\n",
    "# Visualizing the L-shaped pattern\n",
    "plot_tools.plot_pattern_list(pattern_list)\n",
    "\n",
    "# Visualizing the weight matrix\n",
    "plot_tools.plot_nework_weights(hopfield_net_2, color_map='jet')\n",
    "\n",
    "# create an instance of the class HopfieldNetwork, Network size is equal to 36 (6^2)\n",
    "hopfield_net_3 = network.HopfieldNetwork(nr_neurons= pattern_size**2)\n",
    "\n",
    "# create an L-shaped pattern and store it to the network\n",
    "factory = pattern_tools.PatternFactory(pattern_size, pattern_size)\n",
    "checkerboard = factory.create_checkerboard()\n",
    "L_pattern = factory.create_L_pattern()\n",
    "pattern_list = [checkerboard, L_pattern]\n",
    "hopfield_net_3.store_patterns(pattern_list)\n",
    "\n",
    "# Visualizing the L-shaped pattern\n",
    "plot_tools.plot_pattern_list(pattern_list)\n",
    "\n",
    "# Visualizing the weight matrix\n",
    "plot_tools.plot_nework_weights(hopfield_net_3, color_map='jet')\n",
    "\n",
    "\n"
   ]
  },
  {
   "cell_type": "code",
   "execution_count": 758,
   "metadata": {},
   "outputs": [
    {
     "data": {
      "image/png": "[encoded data removed]",
      "text/plain": [
       "<Figure size 432x288 with 2 Axes>"
      ]
     },
     "metadata": {
      "needs_background": "light"
     },
     "output_type": "display_data"
    },
    {
     "data": {
      "image/png": "[encoded data removed]",
      "text/plain": [
       "<Figure size 432x288 with 2 Axes>"
      ]
     },
     "metadata": {
      "needs_background": "light"
     },
     "output_type": "display_data"
    },
    {
     "data": {
      "image/png": "[encoded data removed]",
      "text/plain": [
       "<Figure size 432x288 with 2 Axes>"
      ]
     },
     "metadata": {
      "needs_background": "light"
     },
     "output_type": "display_data"
    }
   ],
   "source": [
    "#Plotting all weight matrices in the following order: \"Checkerboard pattern\", \"L-shaped pattern\", \"Both patterns\"\n",
    "plot_tools.plot_nework_weights(hopfield_net_1, color_map='jet')\n",
    "plot_tools.plot_nework_weights(hopfield_net_2, color_map='jet')\n",
    "plot_tools.plot_nework_weights(hopfield_net_3, color_map='jet')"
   ]
  },
  {
   "cell_type": "markdown",
   "metadata": {},
   "source": [
    "How does this matrix compare to the two previous matrices?"
   ]
  },
  {
   "cell_type": "markdown",
   "metadata": {},
   "source": [
    "your answer\n",
    "\n",
    "The third matrix is obtained by summing up the two previous matrices. As seen in the figures, if the values at the same element have the same sign, the value in the third matrices doubles and remains the same sign. Otherwise, if the same element have opposing signs, they get cancelled out and the element is set to zero. "
   ]
  },
  {
   "cell_type": "markdown",
   "metadata": {},
   "source": [
    "### 8.3.3. Question: Weights Distribution\n",
    "#### *** Note:*** this exercise is NOT a bonus and it is graded\n",
    "#### [2 points]\n",
    "\n",
    "It’s interesting to look at the weights distribution in the three previous cases. You can easily plot a histogram by adding the following two lines to your script. It assumes you have stored your network in the variable ‘hopfield_net’. Explain the observed distribution (max 3 lines)."
   ]
  },
  {
   "cell_type": "code",
   "execution_count": 759,
   "metadata": {},
   "outputs": [
    {
     "data": {
      "text/plain": [
       "(array([276.,   0.,   0.,   0.,   0., 682.,   0.,   0.,   0., 338.]),\n",
       " array([-0.05555556, -0.04444444, -0.03333333, -0.02222222, -0.01111111,\n",
       "         0.        ,  0.01111111,  0.02222222,  0.03333333,  0.04444444,\n",
       "         0.05555556]),\n",
       " <a list of 10 Patch objects>)"
      ]
     },
     "execution_count": 759,
     "metadata": {},
     "output_type": "execute_result"
    },
    {
     "data": {
      "image/png": "[encoded data removed]",
      "text/plain": [
       "<Figure size 432x288 with 1 Axes>"
      ]
     },
     "metadata": {
      "needs_background": "light"
     },
     "output_type": "display_data"
    },
    {
     "data": {
      "image/png": "[encoded data removed]",
      "text/plain": [
       "<Figure size 432x288 with 1 Axes>"
      ]
     },
     "metadata": {
      "needs_background": "light"
     },
     "output_type": "display_data"
    },
    {
     "data": {
      "image/png": "[encoded data removed]",
      "text/plain": [
       "<Figure size 432x288 with 1 Axes>"
      ]
     },
     "metadata": {
      "needs_background": "light"
     },
     "output_type": "display_data"
    }
   ],
   "source": [
    "import matplotlib.pyplot as plt\n",
    "\n",
    "plt.figure(1)\n",
    "plt.hist(hopfield_net_1.weights.flatten())\n",
    "plt.figure(2)\n",
    "plt.hist(hopfield_net_2.weights.flatten())\n",
    "plt.figure(3)\n",
    "plt.hist(hopfield_net_3.weights.flatten())"
   ]
  },
  {
   "cell_type": "markdown",
   "metadata": {},
   "source": [
    "your answer\n",
    "\n",
    "The weight distribution of the first matrix is almost completely evenly distributed between positive and negative values given the nature of the checkerboard pattern is such that the distribution of positive and negative states are equal. The distribution for the second matrix slightly favors the positive values given that the distribution of elements in the L-shaped patterns are skewed to the negative and consequently results in more positive connections of elements of the same type. The weight distribution of the third matrix is dominanted by zero weight values given that the majority values were cancelled out by the summation of negative and positive weights from the first two matrices."
   ]
  },
  {
   "cell_type": "markdown",
   "metadata": {},
   "source": [
    "## 8.4. Exercise: Capacity of an N=100 Hopfield-network\n",
    "\n",
    "Larger networks can store more patterns. There is a theoretical limit: the capacity of the Hopfield network. Read chapter [“17.2.4 Memory capacity”](http://neuronaldynamics.epfl.ch/online/Ch17.S2.html) to learn how memory retrieval, pattern completion and the network capacity are related."
   ]
  },
  {
   "cell_type": "markdown",
   "metadata": {},
   "source": [
    "### 8.4.1. Question:\n",
    "#### [2 points]\n",
    "\n",
    "A Hopfield network implements so called associative or content-adressable memory. Explain what this means. (max 4 lines)"
   ]
  },
  {
   "cell_type": "markdown",
   "metadata": {},
   "source": [
    "your answer\n",
    "\n",
    "Associative memory follows the principle that items are retrieved in memory in association with other items. Therefore, each item retrieved triggers the retrieval of subsequent items. The relationship between the items are characterized by the neuronal connections and the strengthing of these connections allow for the formation of memory. In the context of the Hopfield network, the network starts at an initial state and will evolve towards a pattern that is most closely correlated to that initial state."
   ]
  },
  {
   "cell_type": "markdown",
   "metadata": {},
   "source": [
    "### 8.4.2. Question:\n",
    "#### [1 points]\n",
    "\n",
    "Using the value $C_{store}$\n",
    " given in the book, how many patterns can you store in a N=10x10 network? Use this number K in the next question:"
   ]
  },
  {
   "cell_type": "markdown",
   "metadata": {},
   "source": [
    "your answer\n",
    "\n",
    "The maximum number of patterns stored by a network can be determined using the following equation: Kmax = N x Cstore. Therefore with a theoretical limit of Cstore set to 0.138 to prevent an avalanche of changes upon further iterations, a maximum number of patterns stored is 1.38, which rounding down equates to 1 pattern with 10 neurons.   "
   ]
  },
  {
   "cell_type": "code",
   "execution_count": 760,
   "metadata": {},
   "outputs": [
    {
     "name": "stdout",
     "output_type": "stream",
     "text": [
      "Number of patterns: 1.0\n"
     ]
    }
   ],
   "source": [
    "C_store = 0.138\n",
    "N = 10\n",
    "K = np.floor(N*C_store)\n",
    "print(\"Number of patterns: {}\".format(K))"
   ]
  },
  {
   "cell_type": "markdown",
   "metadata": {},
   "source": [
    "### 8.4.3. Question:\n",
    "#### [3+2 points]\n",
    "\n",
    "Create an N=10x10 network and store a checkerboard pattern together with (K-1) random patterns. Then initialize the network with the unchanged checkerboard pattern. Let the network evolve for five iterations."
   ]
  },
  {
   "cell_type": "code",
   "execution_count": 762,
   "metadata": {},
   "outputs": [
    {
     "data": {
      "image/png": "[encoded data removed]",
      "text/plain": [
       "<Figure size 432x288 with 5 Axes>"
      ]
     },
     "metadata": {
      "needs_background": "light"
     },
     "output_type": "display_data"
    },
    {
     "data": {
      "image/png": "[encoded data removed]",
      "text/plain": [
       "<Figure size 432x288 with 12 Axes>"
      ]
     },
     "metadata": {
      "needs_background": "light"
     },
     "output_type": "display_data"
    }
   ],
   "source": [
    "# write your code here\n",
    "\n",
    "%matplotlib inline\n",
    "from neurodynex.hopfield_network import network, pattern_tools, plot_tools\n",
    "\n",
    "# Total number of patterns\n",
    "K = 5\n",
    "pattern_size = 10\n",
    "\n",
    "# create an instance of the class HopfieldNetwork\n",
    "hopfield_net = network.HopfieldNetwork(nr_neurons= pattern_size**2)\n",
    "# instantiate a pattern factory\n",
    "factory = pattern_tools.PatternFactory(pattern_size, pattern_size)\n",
    "# create a checkerboard pattern and add it to the pattern list\n",
    "checkerboard = factory.create_checkerboard()\n",
    "pattern_list = [checkerboard]\n",
    "\n",
    "# add random patterns to the list\n",
    "pattern_list.extend(factory.create_random_pattern_list(nr_patterns=K-1, on_probability=0.5))\n",
    "plot_tools.plot_pattern_list(pattern_list)\n",
    "\n",
    "# let the hopfield network \"learn\" the patterns. Note: they are not stored\n",
    "# explicitly but only network weights are updated !\n",
    "hopfield_net.store_patterns(pattern_list)\n",
    "\n",
    "# create a noisy version of a pattern and use that to initialize the network\n",
    "hopfield_net.set_state_from_pattern(checkerboard)\n",
    "\n",
    "# from this initial state, let the network dynamics evolve.\n",
    "states = hopfield_net.run_with_monitoring(nr_steps=5)\n",
    "\n",
    "# each network state is a vector. reshape it to the same shape used to create the patterns.\n",
    "states_as_patterns = factory.reshape_patterns(states)\n",
    "# plot the states of the network\n",
    "plot_tools.plot_state_sequence_and_overlap(states_as_patterns, pattern_list, reference_idx=0, suptitle=\"Network dynamics\")"
   ]
  },
  {
   "cell_type": "markdown",
   "metadata": {},
   "source": [
    "Rerun your script a few times. What do you observe?"
   ]
  },
  {
   "cell_type": "markdown",
   "metadata": {},
   "source": [
    "your answer\n",
    "\n",
    "After setting the initial state to the unchanged checkerboard pattern, it was observed that the network evolves to output the same checkerboard pattern on each occasion that the script is ran. "
   ]
  },
  {
   "cell_type": "markdown",
   "metadata": {},
   "source": [
    "## 8.5. Exercise: Non-random patterns\n",
    "\n",
    "In the previous exercises we used random patterns. Now we us a list of structured patterns: the letters A to Z. Each letter is represented in a 10 by 10 grid."
   ]
  },
  {
   "cell_type": "markdown",
   "metadata": {},
   "source": [
    "### 8.5.1. Question:\n",
    "\n",
    "Run the following code. Read the inline comments and look up the doc of functions you do not know."
   ]
  },
  {
   "cell_type": "code",
   "execution_count": 763,
   "metadata": {},
   "outputs": [
    {
     "name": "stdout",
     "output_type": "stream",
     "text": [
      "the alphabet is stored in an object of type: <type 'dict'>\n",
      "letters are patterns of size: (10L, 10L). Create a network of corresponding size\n"
     ]
    },
    {
     "data": {
      "image/png": "[encoded data removed]",
      "text/plain": [
       "<Figure size 432x288 with 7 Axes>"
      ]
     },
     "metadata": {
      "needs_background": "light"
     },
     "output_type": "display_data"
    },
    {
     "data": {
      "image/png": "[encoded data removed]",
      "text/plain": [
       "<Figure size 432x288 with 10 Axes>"
      ]
     },
     "metadata": {
      "needs_background": "light"
     },
     "output_type": "display_data"
    }
   ],
   "source": [
    "%matplotlib inline\n",
    "import matplotlib.pyplot as plt\n",
    "from neurodynex.hopfield_network import network, pattern_tools, plot_tools\n",
    "import numpy\n",
    "\n",
    "# the letters we want to store in the hopfield network\n",
    "letter_list = ['A', 'B', 'C', 'S', 'X', 'Y', 'Z']\n",
    "\n",
    "# set a seed to reproduce the same noise in the next run\n",
    "# numpy.random.seed(123)\n",
    "\n",
    "abc_dictionary =pattern_tools.load_alphabet()\n",
    "print(\"the alphabet is stored in an object of type: {}\".format(type(abc_dictionary)))\n",
    "# access the first element and get it's size (they are all of same size)\n",
    "pattern_shape = abc_dictionary['A'].shape\n",
    "print(\"letters are patterns of size: {}. Create a network of corresponding size\".format(pattern_shape))\n",
    "# create an instance of the class HopfieldNetwork\n",
    "hopfield_net = network.HopfieldNetwork(nr_neurons= pattern_shape[0]*pattern_shape[1])\n",
    "\n",
    "# create a list using Pythons List Comprehension syntax:\n",
    "pattern_list = [abc_dictionary[key] for key in letter_list]\n",
    "plot_tools.plot_pattern_list(pattern_list)\n",
    "\n",
    "# store the patterns\n",
    "hopfield_net.store_patterns(pattern_list)\n",
    "\n",
    "# # create a noisy version of a pattern and use that to initialize the network\n",
    "noisy_init_state = pattern_tools.get_noisy_copy(abc_dictionary['A'], noise_level=0.2)\n",
    "hopfield_net.set_state_from_pattern(noisy_init_state)\n",
    "\n",
    "# from this initial state, let the network dynamics evolve.\n",
    "states = hopfield_net.run_with_monitoring(nr_steps=4)\n",
    "\n",
    "# each network state is a vector. reshape it to the same shape used to create the patterns.\n",
    "states_as_patterns = pattern_tools.reshape_patterns(states, pattern_list[0].shape)\n",
    "\n",
    "# plot the states of the network\n",
    "plot_tools.plot_state_sequence_and_overlap(\n",
    "    states_as_patterns, pattern_list, reference_idx=0, suptitle=\"Network dynamics\")"
   ]
  },
  {
   "cell_type": "code",
   "execution_count": 764,
   "metadata": {},
   "outputs": [
    {
     "data": {
      "image/png": "[encoded data removed]",
      "text/plain": [
       "<Figure size 432x288 with 8 Axes>"
      ]
     },
     "metadata": {
      "needs_background": "light"
     },
     "output_type": "display_data"
    },
    {
     "data": {
      "image/png": "[encoded data removed]",
      "text/plain": [
       "<Figure size 432x288 with 10 Axes>"
      ]
     },
     "metadata": {
      "needs_background": "light"
     },
     "output_type": "display_data"
    }
   ],
   "source": [
    "# write your code here\n",
    "letter_list = ['A', 'B', 'C', 'S', 'X', 'Y', 'Z','R']\n",
    "# create a list using Pythons List Comprehension syntax:\n",
    "pattern_list = [abc_dictionary[key] for key in letter_list ]\n",
    "plot_tools.plot_pattern_list(pattern_list)\n",
    "\n",
    "# store the patterns\n",
    "hopfield_net.store_patterns(pattern_list)\n",
    "\n",
    "# # create a noisy version of a pattern and use that to initialize the network\n",
    "noisy_init_state = pattern_tools.get_noisy_copy(abc_dictionary['A'], noise_level=0.2)\n",
    "hopfield_net.set_state_from_pattern(noisy_init_state)\n",
    "\n",
    "# from this initial state, let the network dynamics evolve.\n",
    "states = hopfield_net.run_with_monitoring(nr_steps=4)\n",
    "\n",
    "# each network state is a vector. reshape it to the same shape used to create the patterns.\n",
    "states_as_patterns = pattern_tools.reshape_patterns(states, pattern_list[0].shape)\n",
    "\n",
    "# plot the states of the network\n",
    "plot_tools.plot_state_sequence_and_overlap(\n",
    "    states_as_patterns, pattern_list, reference_idx=0, suptitle=\"Network dynamics\")\n"
   ]
  },
  {
   "cell_type": "markdown",
   "metadata": {},
   "source": [
    "Is the pattern ‘A’ still a fixed point? Does the overlap between the network state and the reference pattern ‘A’ always decrease? (max 3 lines)"
   ]
  },
  {
   "cell_type": "markdown",
   "metadata": {},
   "source": [
    "your answer\n",
    "\n",
    "The pattern 'A' no longer appears to be a fixed point given that the overlap no longer stabilizes at a value close to or equal to 1 after a certain number of steps. As the number of steps increase, the overlap between the reference and the overlap always appears to decrease."
   ]
  },
  {
   "cell_type": "markdown",
   "metadata": {},
   "source": [
    "### 8.5.3. Question:\n",
    "#### [3 + 3 points]\n",
    "\n",
    "Make a guess of how many letters the network can store. Then create a (small) set of letters. Check if all letters of your list are fixed points under the network dynamics. "
   ]
  },
  {
   "cell_type": "code",
   "execution_count": 765,
   "metadata": {},
   "outputs": [
    {
     "name": "stdout",
     "output_type": "stream",
     "text": [
      "the alphabet is stored in an object of type: <type 'dict'>\n",
      "letters are patterns of size: (10L, 10L). Create a network of corresponding size\n"
     ]
    },
    {
     "data": {
      "image/png": "[encoded data removed]",
      "text/plain": [
       "<Figure size 432x288 with 5 Axes>"
      ]
     },
     "metadata": {
      "needs_background": "light"
     },
     "output_type": "display_data"
    },
    {
     "name": "stdout",
     "output_type": "stream",
     "text": [
      "[0.82 1.   1.   1.   1.   1.  ]\n",
      "[0.8 1.  1.  1.  1.  1. ]\n",
      "[0.74 1.   1.   1.   1.   1.  ]\n",
      "[0.78 1.   1.   1.   1.   1.  ]\n",
      "[0.86 1.   1.   1.   1.   1.  ]\n"
     ]
    },
    {
     "data": {
      "text/plain": [
       "Text(0.5,1,'Pattern retrieval for each letter')"
      ]
     },
     "execution_count": 765,
     "metadata": {},
     "output_type": "execute_result"
    },
    {
     "data": {
      "image/png": "[encoded data removed]",
      "text/plain": [
       "<Figure size 864x288 with 1 Axes>"
      ]
     },
     "metadata": {
      "needs_background": "light"
     },
     "output_type": "display_data"
    }
   ],
   "source": [
    "# write your code here\n",
    "%matplotlib inline\n",
    "import matplotlib.pyplot as plt\n",
    "from neurodynex.hopfield_network import network, pattern_tools, plot_tools\n",
    "import numpy\n",
    "\n",
    "# the letters we want to store in the hopfield network\n",
    "letter_list = ['F', 'G','H','L','R']\n",
    "# set a seed to reproduce the same noise in the next run\n",
    "numpy.random.seed(123)\n",
    "\n",
    "abc_dictionary =pattern_tools.load_alphabet()\n",
    "print(\"the alphabet is stored in an object of type: {}\".format(type(abc_dictionary)))\n",
    "# access the first element and get it's size (they are all of same size)\n",
    "pattern_shape = abc_dictionary['A'].shape\n",
    "print(\"letters are patterns of size: {}. Create a network of corresponding size\".format(pattern_shape))\n",
    "\n",
    "\n",
    "# create an instance of the class HopfieldNetwork\n",
    "hopfield_net_expected = network.HopfieldNetwork(nr_neurons= pattern_shape[0]*pattern_shape[1])\n",
    "# create a list using Pythons List Comprehension syntax:\n",
    "pattern_list = [abc_dictionary[key] for key in letter_list ]\n",
    "#pattern_list = [abc_dictionary[idx] for idx,key in enumerate(abc_dictionary)]\n",
    "plot_tools.plot_pattern_list(pattern_list)\n",
    "# store the patterns\n",
    "hopfield_net_expected.store_patterns(pattern_list)\n",
    "\n",
    "\n",
    "\n",
    "\n",
    "hi = []\n",
    "# plot the overlap of the network\n",
    "for idx,key in enumerate(letter_list):\n",
    "    # # create a noisy version of a pattern and use that to initialize the network\n",
    "    noisy_init_state = pattern_tools.get_noisy_copy(abc_dictionary[key], noise_level=0.2)\n",
    "    hopfield_net_expected.set_state_from_pattern(noisy_init_state)\n",
    "\n",
    "    # from this initial state, let the network dynamics evolve.\n",
    "    states = hopfield_net_expected.run_with_monitoring(nr_steps=5)\n",
    "\n",
    "    # each network state is a vector. reshape it to the same shape used to create the patterns.\n",
    "    states_as_patterns = pattern_tools.reshape_patterns(states, pattern_list[0].shape)\n",
    "\n",
    "    # plot the states of the network\n",
    "    #plot_tools.plot_state_sequence_and_overlap(\n",
    "    #    states_as_patterns, pattern_list, reference_idx=idx, suptitle=\"Network dynamics\")\n",
    "    overlap_p = pattern_tools.compute_overlap_list(pattern_list[idx], states_as_patterns)\n",
    "    hi.append(overlap_p)\n",
    "    print(overlap_p)\n",
    "\n",
    "plt.figure( figsize = [12, 4] ) \n",
    "plt.plot(np.transpose(hi),marker='o')\n",
    "#plt.xticks(np.arange(pattern_size**2))\n",
    "#plt.yticks([-1,0,1])\n",
    "plt.xlabel(\"Number of states\")\n",
    "plt.ylabel(\"Overlap\")\n",
    "plt.legend([\"F\",\"G\",\"H\",\"L\",\"R\"])\n",
    "plt.title(\"Pattern retrieval for each letter\")\n",
    "\n"
   ]
  },
  {
   "cell_type": "markdown",
   "metadata": {},
   "source": [
    "Explain the discrepancy between the network capacity C (computed above) and your observation. (max 4 lines)"
   ]
  },
  {
   "cell_type": "markdown",
   "metadata": {},
   "source": [
    "your answer\n",
    "\n",
    "The computed network capacity in a network of 10 neurons was the retrieval of 1 pattern, however, choosing a small select set of letters, it was observed that all 5 could be retrieved. This discrepancy is mainly due to the choice of input and the initial configuration: (1) the letters chosen are sufficiently uncorrelated such that the convergence to a single pattern is more likely and (2) the starting configuration was sufficiently close to the expected patterns retrieved. In contrast, the theoretical assumes a partial cue, therefore it accounts for initial states that may have more noise and it assumes that the patterns are generated by independent random numbers with zero mean, therefore the limit accounts for patterns that are may be more correlated than the patterns used in this example. "
   ]
  },
  {
   "cell_type": "markdown",
   "metadata": {},
   "source": [
    "## 8.6 Low activity attractor network\n",
    "\n",
    "Hopfield networks are a useful abstraction in order to understand how associative memory works. \n",
    "However they are quite far from biological plausibility. One step towards a more bioplausible attractor network is to consider sparse patterns. In the traditional Hopfield network you have analysed so far, each pattern counts 50% of active units, now we consider patterns that only have a small fraction `f` of active units. \n",
    "\n",
    "A simple low activity attractor network is described in this [paper](https://www.mitpressjournals.org/doi/full/10.1162/NECO_a_00499) (\"Scaling Laws of Associative Memory Retrieval\" by Sandro Romani, Itai Pinkoviezky, Alon Rubin and Misha Tsodyks). \n",
    "The goal of this exercise is to understand the network model proposed in the first part of the paper and reproduce Fig.1.\n",
    "\n",
    "Start by reading the introduction, ***section 2.1*** and ***A.1*** of the paper (that's all you'll need for the exercise).\n",
    "\n",
    "***Note:*** In what follows we stick to the same notation of the paper. If you are confused about the meaning of a variable, you know were to find it!"
   ]
  },
  {
   "cell_type": "markdown",
   "metadata": {},
   "source": [
    "### 8.6.1 Patterns and weight matrix\n",
    "#### [1 + 2 + 2  points]\n",
    "\n",
    "Start by implementing L sparse patterns. You can store them into a $L\\times P$ matrix called `items`. In what follows, use the indications given in the comments."
   ]
  },
  {
   "cell_type": "code",
   "execution_count": 766,
   "metadata": {},
   "outputs": [],
   "source": [
    "import numpy as np\n",
    "import matplotlib.pyplot as plt"
   ]
  },
  {
   "cell_type": "code",
   "execution_count": 767,
   "metadata": {},
   "outputs": [],
   "source": [
    "## Initialize the parameters like in the paper ## \n",
    "N = 3000\n",
    "L = 16\n",
    "f = 0.1\n",
    "T = 0.015\n",
    "Dth = 1.9*T\n",
    "Tth = 45\n",
    "TJ0 = 25\n",
    "min_J0 = 0.7\n",
    "max_J0 = 1.2\n",
    "timesteps = 1000  ## for this one, check out Fig.1\n",
    "np.random.seed(26) ## KEEP THE SEED FIXED FOR CORRECTION ##"
   ]
  },
  {
   "cell_type": "code",
   "execution_count": 768,
   "metadata": {},
   "outputs": [
    {
     "name": "stdout",
     "output_type": "stream",
     "text": [
      "Shape of items (16L, 3000L)\n",
      "Shape of items (3000L, 3000L)\n"
     ]
    }
   ],
   "source": [
    "## Initialize patterns and weights (!!! for loops = -1 point !!!)\n",
    "\n",
    "items = np.random.binomial(1,f,(L, N)) ## find the right probability distibution within the numpy.random library\n",
    "## Check that items has the right shape\n",
    "print \"Shape of items\",  np.shape(items)\n",
    "\n",
    "J = 1/(N*f*(1-f))*np.dot(np.transpose(items-f),items-f)#??? ## implement the definition of the weight matrix, find the right numpy function for matrix multiplication\n",
    "## Check that J has the right shape\n",
    "print \"Shape of items\",  np.shape(J)"
   ]
  },
  {
   "cell_type": "markdown",
   "metadata": {},
   "source": [
    "Explain why we need to subtract `f` in the weight formula. (max 5 lines)\n",
    "#### [4 points]"
   ]
  },
  {
   "cell_type": "markdown",
   "metadata": {},
   "source": [
    "your answer\n",
    "\n",
    "For low-activity patterns, the f parameter is introduced and represents the sparseness of the active neurons for each pattern. By setting f < 0.5, it ensures that for each pattern, the number of neurons that are active is less than 50%. The total activity for each is follows this equation: ∑ξ_μi=Nf, therefore f also represents the mean activity. As such, the mean activity can be substracted from each individual neuron when calculating the connections (weights) between neurons."
   ]
  },
  {
   "cell_type": "markdown",
   "metadata": {},
   "source": [
    "Now initialize the threshold.\n",
    "#### [2  points]"
   ]
  },
  {
   "cell_type": "code",
   "execution_count": 769,
   "metadata": {},
   "outputs": [],
   "source": [
    "## Initilize the thtrshold\n",
    "thresh = np.random.uniform(-T,T,(L, N)) ## find the right probability distibution within the numpy.random library\n",
    "thresh_0 = np.copy(thresh)"
   ]
  },
  {
   "cell_type": "markdown",
   "metadata": {},
   "source": [
    "### 8.6.2 Dynamical evolution\n",
    "Now implement a function that let the state of the system evolve (for Fig.1A) and a second one which computes the overlaps between items (for Fig.1B) (use again the right numpy function for matrix multiplication and check out a numpy function for $\\Theta$).\n",
    "\n",
    "***Note:*** Don't confuse the overlap between the current state and the stored patterns and the overlap between patterns.\n",
    "#### [4 + 1 points]"
   ]
  },
  {
   "cell_type": "code",
   "execution_count": 770,
   "metadata": {},
   "outputs": [],
   "source": [
    "def evolve(V_,thresh_,J0_):\n",
    "    C = 1/(N*f*(1-f))\n",
    "    overlap_ = np.diag(C*np.dot(items-f,np.transpose(V_)))## write the overlap formula at time t \n",
    "\n",
    "    V_old = np.copy(V_)\n",
    "    \n",
    "    term_1 = np.dot(V_old,J)\n",
    "    term_2 =(J0_/(N*f))*np.sum(V_old,axis =1)\n",
    "    term_3 = thresh_\n",
    "    sum_terms = np.transpose(term_1  - term_3) - term_2\n",
    "    \n",
    "    V_ = np.heaviside(np.transpose(sum_terms),0)       ## write the update formula for time t+1\n",
    "    thresh_ = thresh_ -(thresh_-thresh_0-Dth*V_old)/Tth ## update the threshold for time t+1\n",
    "    \n",
    "    return V_,thresh_, overlap_\n",
    "\n",
    "def overlap_mat(a,b):\n",
    "    return np.dot(a,np.transpose(b))    ## if a and b are two patterns, what's the overlap between them?"
   ]
  },
  {
   "cell_type": "markdown",
   "metadata": {},
   "source": [
    "Run the dynamics and plot $J_0(t)$.\n",
    "#### [4 + 1  points]"
   ]
  },
  {
   "cell_type": "code",
   "execution_count": null,
   "metadata": {
    "scrolled": true
   },
   "outputs": [],
   "source": [
    "## Here we prepare a dictionary in which to store the state, J0, threshold and overlap for each time step ## \n",
    "dic_evolution = {}\n",
    "dic_evolution['J0'] = []\n",
    "dic_evolution['V'] = []\n",
    "dic_evolution['thresh'] = []\n",
    "dic_evolution['overl'] = []\n",
    "\n",
    "## Set the initial state of the matrix equal to the first pattern\n",
    "dic_evolution['V'].append(items)\n",
    "dic_evolution['thresh'].append(thresh_0)\n",
    "\n",
    "\n",
    "## Now we are ready to run the dynamics \n",
    "for i in range(1000):\n",
    "    #print(np.shape(dic_evolution['V']))\n",
    "    J0 = 0.25*np.sin((i)*2*np.pi/25)+0.95 ## use numpy.sin() to have the correct osclillatory behavior. Don't forget to scale it correctly\n",
    "    V_,thresh_, overlap_ = evolve(dic_evolution['V'][i] ,dic_evolution['thresh'][i],J0)\n",
    "    \n",
    "    dic_evolution['J0'].append(J0) \n",
    "    dic_evolution['V'].append(V_)\n",
    "    dic_evolution['thresh'].append(thresh_)\n",
    "    dic_evolution['overl'].append(overlap_)"
   ]
  },
  {
   "cell_type": "code",
   "execution_count": null,
   "metadata": {},
   "outputs": [],
   "source": [
    "## check that you have the right evolution of J0\n",
    "plt.plot(dic_evolution['J0'])\n",
    "plt.xlim([0,25])  ## plot for one period\n",
    "plt.show()"
   ]
  },
  {
   "cell_type": "markdown",
   "metadata": {},
   "source": [
    "### 8.6.3 Plot the figures\n",
    "#### [2 + 4 points]"
   ]
  },
  {
   "cell_type": "code",
   "execution_count": null,
   "metadata": {},
   "outputs": [],
   "source": [
    "## Plot Fig. 1A \n",
    "print(np.shape(dic_evolution['overl']))\n",
    "plt.figure( figsize = [12.4, 6.4] ) ## check out the inputs, how do you fix the figure size?\n",
    "plt.imshow( np.transpose(dic_evolution['overl']) , interpolation = 'None', aspect = 'auto', cmap = 'jet') ## Insert the right dictionary \n",
    "plt.xlabel('Time')\n",
    "plt.ylabel('Item')\n",
    "## add a colorbar here\n",
    "plt.colorbar()\n",
    "plt.show()"
   ]
  },
  {
   "cell_type": "code",
   "execution_count": null,
   "metadata": {},
   "outputs": [],
   "source": [
    "## Plot Fig. 1B\n",
    "## first you need to create a matrix filled with the overlaps between patterns.\n",
    "overlap_matrix = np.zeros((L,L)) ## declare a matrix of 0s with the right shape. One more time, numpy is going to be useful.\n",
    "print(np.shape(overlap_matrix))\n",
    "for i in range( L ):\n",
    "    for j in range(i, L ):\n",
    "        if i != j:\n",
    "            overlap_matrix[i,j] = overlap_matrix[j,i] = overlap_mat(items[i,:],items[j,:])#??? ## insert the right expression for the element of overlap_matrix\n",
    "            \n",
    "## Set the diagonal of overlap_matrix = to average of other entries ## \n",
    "overlap_matrix += np.diagflat(np.average(overlap_matrix,axis=1)) \n",
    "\n",
    "plt.figure( figsize = [10, 8] ) ## check out the inputs, how do you fix the figure size?\n",
    "plt.imshow( overlap_matrix , aspect='auto',cmap='jet')\n",
    "plt.xlabel('Item')\n",
    "plt.ylabel('Item')\n",
    "## add a colorbar here\n",
    "plt.colorbar()\n",
    "plt.show()"
   ]
  },
  {
   "cell_type": "markdown",
   "metadata": {},
   "source": [
    "Comment your first figure: do you notice any recurrence in the item retrieval? How do they interpret it in the paper? \n",
    "Now explain the link between the first and the second figure. (max 12 lines)\n",
    "#### [8 points]"
   ]
  },
  {
   "cell_type": "markdown",
   "metadata": {},
   "source": [
    "your answer\n",
    "\n",
    "In figure 1, it was observed that there is the reoccurence of the following patterns (items): 0,1,2,12 and 15. The authors intrepret this as the dynamics of the system entering a loop in which the same patterns are retrieved repeatedely. In the second figure, it represents the number of active neurons that are common to both patterns. The patterns that share a high number of active neurons as seen in figure 2 are the same patterns that will be retrieved in transition one after the other in figure 1. As is the case with item 0, it can be seen that when it has been retrieved, a short time after item 1 is retrieved and the two share a high number of active neurons. This observation is consistent with the ones made by the authors in which they noted that the network transitions occurs between attractors with the largest intersection (figure 2). As such, they determined that patterns with the largest intersection had the highest measure of similalirty, therefore, when an item is retrieved it triggers the subsequent retrieval of the item to which it shares a high level of similairty. "
   ]
  },
  {
   "cell_type": "code",
   "execution_count": null,
   "metadata": {},
   "outputs": [],
   "source": []
  }
 ],
 "metadata": {
  "kernelspec": {
   "display_name": "Python 2",
   "language": "python",
   "name": "python2"
  },
  "language_info": {
   "codemirror_mode": {
    "name": "ipython",
    "version": 2
   },
   "file_extension": ".py",
   "mimetype": "text/x-python",
   "name": "python",
   "nbconvert_exporter": "python",
   "pygments_lexer": "ipython2",
   "version": "2.7.15"
  }
 },
 "nbformat": 4,
 "nbformat_minor": 2
}
